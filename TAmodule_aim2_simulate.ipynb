{
 "cells": [
  {
   "cell_type": "code",
   "execution_count": null,
   "metadata": {
    "collapsed": false
   },
   "outputs": [],
   "source": [
    "%load_ext autoreload\n",
    "%autoreload 2\n",
    "%matplotlib inline\n",
    "import pandas as pd\n",
    "import numpy as np\n",
    "import matplotlib.pyplot as plt\n",
    "from collections import defaultdict, OrderedDict\n",
    "from simulator import get_simulator\n",
    "from simulate import simulate\n",
    "from simulate import mpi_simulate"
   ]
  },
  {
   "cell_type": "markdown",
   "metadata": {},
   "source": [
    "# Simulating The Chemical Network "
   ]
  },
  {
   "cell_type": "markdown",
   "metadata": {},
   "source": [
    "# $e^{i\\pi} + 1 = 0$"
   ]
  },
  {
   "cell_type": "code",
   "execution_count": null,
   "metadata": {
    "collapsed": false
   },
   "outputs": [],
   "source": [
    "system = {\n",
    "    'duration': 9999.0, # how much time each simulation trajectory represents\n",
    "    'resolution': 1.0,  # how often the state of the system is recorded for output\n",
    "    'species': [\n",
    "        ('i', 0),  # competing protein mRNA (CFP mRNA)\n",
    "        ('a', 0),  # antitoxin mRNA (mazE)\n",
    "        ('t', 0),  # toxin mRNA (mazF)\n",
    "        ('I', 0),  # competing protein (CFP)\n",
    "        ('A', 0),  # antitoxin (MazE)\n",
    "        ('T', 0),  # toxin (MazF)\n",
    "        ('TT', 0), # toxin dimer\n",
    "        ('C', 0),  # toxin-antitoxin complex (MazE bound to MazF dimer)\n",
    "        ('CC', 0), # toxin-antitoxin complex dimer\n",
    "    ],\n",
    "    'reactions': [\n",
    "        ('lambda_i', (), ((1, 'i'), )),                  # transcription of competing protein mRNA\n",
    "        ('lambda_ta', (), ((1, 't'), (1, 'a'))),         # transcription of toxin and antitoxin mRNAs\n",
    "\n",
    "        ('F_i', ((1, 'i'), ), ()),                       # cleavage of competing protein mRNA by free toxin\n",
    "        ('F_a', ((1, 'a'), ), ()),                       # cleavage of antitoxin mRNA\n",
    "        ('F_t', ((1, 't'), ), ()),                       # cleavage of toxin mRNA\n",
    "\n",
    "        ('alpha_i', ((1, 'i'), ), ((1, 'i'), (1, 'I'))), # translation of competing protein\n",
    "        ('alpha_a', ((1, 'a'), ), ((1, 'a'), (1, 'A'))), # translation of antitoxin\n",
    "        ('alpha_t', ((1, 't'), ), ((1, 't'), (1, 'T'))), # translation of toxin\n",
    "\n",
    "        ('k_C', ((2, 'T'), ), ((1, 'TT'), )),            # toxin dimer formation\n",
    "        ('k_C', ((1, 'TT'), (1, 'A')), ((1, 'C'), )),    # complex formation\n",
    "        ('k_C', ((2, 'C'), ), ((1, 'CC'), )),            # complex dimerization\n",
    "\n",
    "        ('G_I', ((1, 'I'), ), ()),                       # degradation of competing protein\n",
    "        ('G_A', ((1, 'A'), ), ()),                       # degradation of antitoxin\n",
    "        ('G_T', ((1, 'T'), ), ()),                       # degradation of toxin\n",
    "        ('G_T', ((1, 'TT'), ), ((1, 'T'), )),            # degradation of toxin bound in toxin dimer\n",
    "        ('G_C', ((1, 'C'), ), ((1, 'TT'), )),            # degradation of antitoxin bound in complex\n",
    "        ('G_C', ((1, 'CC'), ), ((1, 'TT'), (1, 'C'))),   # degradation of antitoxin bound in complex dimer\n",
    "\n",
    "        ('Gamma', ((1, 'i'), ), ()),                     # dilution of competing protein mRNA\n",
    "        ('Gamma', ((1, 'a'), ), ()),                     # dilution of antitoxin mRNA\n",
    "        ('Gamma', ((1, 't'), ), ()),                     # dilution of toxin mRNA\n",
    "        ('Gamma', ((1, 'I'), ), ()),                     # dilution of competing protein\n",
    "        ('Gamma', ((1, 'A'), ), ()),                     # dilution of antitoxin\n",
    "        ('Gamma', ((1, 'T'), ), ()),                     # dilution of toxin\n",
    "        ('Gamma', ((1, 'TT'), ), ()),                    # dilution of toxin dimer\n",
    "        ('Gamma', ((1, 'C'), ), ()),                     # dilution of complex\n",
    "        ('Gamma', ((1, 'CC'), ), ()),                    # dilution of complex dimer\n",
    "    ], \n",
    "    'variables': [\n",
    "        ('lambda_i', 20.0), # transcription rate competing protein mRNA\n",
    "        ('sigma_ta', 20.0), # basal transcription rate of toxin and antitoxin mRNAs\n",
    "        ('alpha_i', 200.0), # translation rate of competing protein mRNA\n",
    "        ('alpha_t', 200.0), # translation rate of toxin\n",
    "        ('mu_i', 5.0),      # basal degradation rate of competing protein mRNA\n",
    "        ('k_0', 0.05),      # basal repression factor for toxin antitoxin mRNA\n",
    "        ('nu', 1.6),        # relative translation rate of antitoxin to toxin\n",
    "        ('k_C', 1000.0),    # rate of complex formation\n",
    "        ('mu_ta', 5.0),     # basal degradation rate of toxin and antitoxin mRNAs\n",
    "        ('f_T', 20.0),      # mRNA cleavage factor by free toxin\n",
    "        ('omega', 0.2),     # relative cleavage rate of antitoxin to toxin\n",
    "        ('delta', 1.5),     # relative cleavage rate of competing protein to toxin\n",
    "        ('mu', 100.0),      # degradation velocity of all proteolytic pathways\n",
    "        ('epsilon', 0.01),  # affinity of non-degradation state\n",
    "        ('kappa_I', 1.0),   # affinity factor of competing protein\n",
    "        ('kappa_M', 1.0),   # affinity factor of entire toxin antitoxin module\n",
    "        ('kappa_A', 1.0),   # affinity factor of antitoxin\n",
    "        ('kappa_T_1', 0.00001),   # affinity factor of toxin\n",
    "        #('kappa_T_2', 0.00001),   # affinity factor of toxin\n",
    "        ('kappa_C', 0.1),   # affinity factor of complex\n",
    "        ('gamma', 1.0),     # basal dilution rate (sets the time units of the system)\n",
    "        ('beta_g', 0.25),   # growth rate factor for inhibition of growth by free toxin\n",
    "        ('eta_p', 0.5),     # proteolytic coupling parameter\n",
    "        ('phi', 1.0),\n",
    "    ], \n",
    "    'functions': [\n",
    "        ('lambda_ta', 'sigma_ta / (1 + k_0 * (A + C + CC))'), # rate of toxin and antitoxin mRNAs\n",
    "        \n",
    "        ('alpha_a', 'alpha_t * nu'), # nu > 1 so that translation of antitoxin is faster than toxin\n",
    "\n",
    "        ('F_t', 'mu_ta + f_T * (T + TT)'), # cleavage of toxin mRNA which increases as toxin accumulates\n",
    "        ('F_i', 'mu_i  + f_T * (T + TT) * delta'), # delta = 1.5 so that competing protein mRNA cleavage is faster\n",
    "        ('F_a', 'mu_ta + f_T * (T + TT) * omega'), # omega = 0.2 so that antitoxin mRNA cleavage is slower than toxin\n",
    "\n",
    "\n",
    "\n",
    "        ('M_1', '(kappa_A * A + kappa_C * (C + CC) + kappa_T_1 * (T + TT))'),\n",
    "        ('M_2', '(kappa_A * A + kappa_C * (C + CC) + kappa_T_2 * (T + TT))'),\n",
    "        #('kappa_G_I', 'kappa_I * I'),\n",
    "\n",
    "        # coupling of module with competing protein is modulated symmetrically\n",
    "        #('kappa_p_1', 'eta_p'),\n",
    "        #('kappa_p_2', '1.0 - eta_p'),\n",
    "        #('G1', 'mu / (epsilon + kappa_p_2 * kappa_I * I + kappa_p_1 * kappa_M * M)'),\n",
    "        #('G2', 'mu / (epsilon + kappa_p_1 * kappa_I * I + kappa_p_2 * kappa_M * M)'),\n",
    "        #('G_I', '(          kappa_I) * (kappa_p_2 * G1 + kappa_p_1 * G2)'),\n",
    "        #('G_A', '(kappa_A * kappa_M) * (kappa_p_1 * G1 + kappa_p_2 * G2)'),\n",
    "        #('G_C', '(kappa_C * kappa_M) * (kappa_p_1 * G1 + kappa_p_2 * G2)'),\n",
    "        #('G_T', '(kappa_T * kappa_M) * (kappa_p_1 * G1 + kappa_p_2 * G2)'),\n",
    "\n",
    "        # coupling is modulated asymmetrically\n",
    "        #('kappa_p_1', 'eta_p'),\n",
    "        #('kappa_p_2', '1.0 - eta_p'),\n",
    "        #('G1', 'mu / (epsilon + kappa_p_2 * kappa_I * I + kappa_p_1 * kappa_M * M)'),\n",
    "        #('G1', 'mu / (epsilon + kappa_p_1 * kappa_I * I + kappa_M * M)'),\n",
    "        #('G2', 'mu / (epsilon + kappa_p_2 * kappa_I * I)'),\n",
    "        #('G_I', '(          kappa_I) * (kappa_p_1 * G1 + kappa_p_2 * G2)'),\n",
    "        #('G_A', '(kappa_A * kappa_M) * G1'),\n",
    "        #('G_C', '(kappa_C * kappa_M) * G1'),\n",
    "        #('G_T', '(kappa_T * kappa_M) * G1'),\n",
    "\n",
    "        ('kappa_T_2', 'phi * kappa_T_1'),\n",
    "        ('kappa_p_1', 'eta_p'),\n",
    "        ('kappa_p_2', '1.0 - eta_p'),\n",
    "        ('G1', 'mu / (epsilon + kappa_p_2 * kappa_I * I + kappa_M * M_1)'),\n",
    "        ('G2', 'mu / (epsilon + kappa_p_1 * kappa_I * I + kappa_M * M_2)'),\n",
    "        ('G_I', '(          kappa_I) * (kappa_p_2 * G1 + kappa_p_1 * G2)'),\n",
    "        ('G_A', '(kappa_A * kappa_M) * (G1 + G2)'),\n",
    "        ('G_C', '(kappa_C * kappa_M) * (G1 + G2)'),\n",
    "        ('G_T', '(          kappa_M) * (kappa_T_1 * G1 + kappa_T_2 * G2)'),\n",
    "\n",
    "        \n",
    "        ('Gamma', 'gamma / (1.0 + beta_g * (T + TT))'),\n",
    "\n",
    "        ('T_free', 'T + TT'), \n",
    "    ], \n",
    "    'targets': [ # set of system quantities which are recorded for output and analysis\n",
    "        'time', \n",
    "        'i', \n",
    "        'I',\n",
    "        'A',\n",
    "        'C',\n",
    "        'CC',\n",
    "        'T', \n",
    "        'TT',\n",
    "        'T_free',\n",
    "    ],\n",
    "}"
   ]
  },
  {
   "cell_type": "code",
   "execution_count": null,
   "metadata": {
    "collapsed": false
   },
   "outputs": [],
   "source": [
    "df = pd.DataFrame(OrderedDict((t, d) for t, d in zip(system['targets'], get_simulator(system)(0))))\n",
    "df.plot(x='time', y=['T_free', 'i', 'I'], kind='line', figsize=(12, 8), xlim=(500, 1500), ylim=(0, 100))"
   ]
  },
  {
   "cell_type": "markdown",
   "metadata": {},
   "source": [
    "# Measurements Of Toxicity Over Parameter Space "
   ]
  },
  {
   "cell_type": "code",
   "execution_count": null,
   "metadata": {
    "collapsed": false
   },
   "outputs": [],
   "source": [
    "np.round(np.exp(np.linspace(np.log(0.01), np.log(100), 5)), 3)"
   ]
  },
  {
   "cell_type": "code",
   "execution_count": null,
   "metadata": {
    "collapsed": false
   },
   "outputs": [],
   "source": [
    "np.round(np.exp(np.linspace(np.log(0.0000001), np.log(1), 8)), 10)"
   ]
  },
  {
   "cell_type": "code",
   "execution_count": null,
   "metadata": {
    "collapsed": false
   },
   "outputs": [],
   "source": [
    "np.round(np.exp(np.linspace(np.log(1), np.log(100), 3)), 3)"
   ]
  },
  {
   "cell_type": "code",
   "execution_count": null,
   "metadata": {
    "collapsed": false,
    "scrolled": false
   },
   "outputs": [],
   "source": [
    "from event_detection import event_detection\n",
    "from pscan import pscan_view\n",
    "\n",
    "processing = (\n",
    "    (event_detection, ('time', 'T_free', 'I')), \n",
    ")\n",
    "\n",
    "axes = (\n",
    "    #('lambda_i', np.arange(10.0, 60.0 + 1e-10, 1.0)),\n",
    "    #('lambda_i', np.arange(0.0, 20.0 + 1e-10, 1.0)),\n",
    "\n",
    "    #('kappa_I', (0.1, )),\n",
    "    ('kappa_I', np.round(np.exp(np.linspace(np.log(0.0000001), np.log(1), 40)), 10)),\n",
    "    #('kappa_I', np.arange(0.0, 0.2 + 1e-10, 0.02)),\n",
    "    #('kappa_I', np.arange(0.0, 1.0 + 1e-10, 0.05)),\n",
    "    \n",
    "    #('kappa_M', np.arange(0.0, 1.0 + 1e-10, 0.05)),\n",
    "    \n",
    "    #('kappa_T', (0.0, 0.0000001, 0.0)),\n",
    "    \n",
    "    #('eta_p', np.arange(0.0, 1.0 + 1e-10, 0.02)),\n",
    "    ('eta_p', np.arange(0.0, 1.0 + 1e-10, 0.025)),\n",
    "    \n",
    "    #('phi', np.arange(0.0, 10.0 + 1e-10, 0.5)),\n",
    "    #('phi', np.round(np.exp(np.linspace(np.log(0.01), np.log(100), 5)), 3)),\n",
    "    ('phi', np.round(np.exp(np.linspace(np.log(1), np.log(100), 3)), 3)),\n",
    ")\n",
    "\n",
    "print('the axes:')\n",
    "for a, v in axes:\n",
    "    print(a, v)\n",
    "\n",
    "#pspace, data = simulate(system, processing=processing, batchsize=10, axes=axes)\n",
    "pspace, pscans = mpi_simulate(system, processing=processing, batchsize=10, axes=axes, hostfile='~/dev/hostfile')"
   ]
  },
  {
   "cell_type": "markdown",
   "metadata": {},
   "source": [
    "# Viewing Measurements "
   ]
  },
  {
   "cell_type": "code",
   "execution_count": null,
   "metadata": {
    "collapsed": false
   },
   "outputs": [],
   "source": [
    "pscans[0]"
   ]
  },
  {
   "cell_type": "code",
   "execution_count": null,
   "metadata": {
    "collapsed": false,
    "scrolled": false
   },
   "outputs": [],
   "source": [
    "pscan = pscans[0]\n",
    "subspace = {\n",
    "    #'kappa_T': 0.0000001, \n",
    "    #'kappa_T': 0, \n",
    "    'kappa_I': 0.1, \n",
    "    #'kappa_M': 0.5, \n",
    "    #'lambda_i': 20, \n",
    "    'phi': 10.0, \n",
    "}\n",
    "targets = ('time', 'T_free', 'I')\n",
    "\n",
    "selection = pscan_view(pscan, subspace, targets)\n",
    "selection.shape, selection.columns\n",
    "\n",
    "trajectory = 0\n",
    "target = 'T_free'\n",
    "\n",
    "time_selection = selection.loc[selection['Target'] == 'time'].reset_index()\n",
    "target_selection = selection.loc[selection['Target'] == target].reset_index()\n",
    "\n",
    "n_fig = target_selection.shape[0]\n",
    "f, axes = plt.subplots(n_fig, 1, figsize=(12, 2 * n_fig))\n",
    "f.subplots_adjust(wspace=0.8, hspace=0.8)\n",
    "for (t, time), (l, location), ax in zip(time_selection.iterrows(), target_selection.iterrows(), axes):\n",
    "    subspace = location[pspace.columns]\n",
    "    subspace = ', '.join(('%s: %s' % (i, j)) for i, j in zip(subspace.index, subspace.values))\n",
    "    ax.set_title('location: %s' % subspace)\n",
    "    counts = location['Batch'][trajectory, :]\n",
    "    time = time['Batch'][trajectory, :]\n",
    "    ax.plot(time, counts, linewidth=3)\n",
    "    events = location['Events']\n",
    "    if events and sum([len(e) for e in events]):\n",
    "        parameters = location['Parameters']\n",
    "        high, low = parameters['high'], parameters['low']\n",
    "        medium = (high + low) / 2.0\n",
    "        ax.plot([time[0] - 1, time[-1] + 1], [low, low], color='k', ls='--')\n",
    "        ax.plot([time[0] - 1, time[-1] + 1], [medium, medium], color='k', ls='--')\n",
    "        ax.plot([time[0] - 1, time[-1] + 1], [high, high], color='k', ls='--')\n",
    "        for i, j in events[trajectory]:\n",
    "            ax.plot([time[i], time[j]], [medium, medium], color='r', lw=5, marker='s')\n",
    "    ax.set_xlim((0.2 * time.shape[0], min(0.2 * time.shape[0] + 1000, time[-1])))"
   ]
  },
  {
   "cell_type": "code",
   "execution_count": null,
   "metadata": {
    "collapsed": false
   },
   "outputs": [],
   "source": [
    "target_selection.columns"
   ]
  },
  {
   "cell_type": "code",
   "execution_count": null,
   "metadata": {
    "collapsed": false,
    "scrolled": false
   },
   "outputs": [],
   "source": [
    "pscan = pscans[0]\n",
    "subspace = {\n",
    "    #'kappa_T': 0.0000001, \n",
    "    #'kappa_T': 0, \n",
    "    'kappa_I': 0.1, \n",
    "    #'kappa_M': 1.0, \n",
    "    #'lambda_i': 5, \n",
    "    'phi': 100.0, \n",
    "}\n",
    "targets = ('time', 'T_free', 'I')\n",
    "\n",
    "selection = pscan_view(pscan, subspace, targets)\n",
    "selection.shape, selection.columns\n",
    "\n",
    "trajectory = 0\n",
    "target = 'T_free'\n",
    "\n",
    "time_selection = selection.loc[selection['Target'] == 'time'].reset_index()\n",
    "target_selection = selection.loc[selection['Target'] == target].reset_index()\n",
    "\n",
    "x = 'eta_p'\n",
    "ys = [['Toxic Probability'], ['Mean Event Duration'], ['Event Count']]\n",
    "\n",
    "#print(target_selection[x])\n",
    "\n",
    "n = len(ys)\n",
    "f, axes = plt.subplots(n, 1, figsize=(12, n * 6))\n",
    "for ax, targets in zip(axes, ys):\n",
    "    target_selection.plot(x=x, y=targets, ax=ax)\n",
    "    ax.set_title('%s Versus %s' % (', '.join(targets), x))\n",
    "    ax.set_xlabel(x)\n",
    "    ax.set_ylabel(', '.join(targets))"
   ]
  },
  {
   "cell_type": "code",
   "execution_count": null,
   "metadata": {
    "collapsed": false,
    "scrolled": false
   },
   "outputs": [],
   "source": [
    "pscan = pscans[0]\n",
    "subspace = {\n",
    "    #'kappa_T': 0.0000001, \n",
    "    #'kappa_T': 0, \n",
    "    #'kappa_I': 0.1, \n",
    "    'phi': 100.0, \n",
    "    #'sigma_i': 20, \n",
    "}\n",
    "targets = ('time', 'T_free', 'I')\n",
    "target = 'T_free'\n",
    "\n",
    "selection = pscan_view(pscan, subspace, targets)\n",
    "selection = selection.loc[selection['Target'] == target].reset_index()\n",
    "selection.shape, selection.columns\n",
    "\n",
    "x = selection['kappa_I'].values\n",
    "#x = selection['phi'].values\n",
    "y = selection['eta_p'].values\n",
    "z = selection['Toxic Probability'].values\n",
    "print(x.shape, y.shape, z.shape)\n",
    "print(np.unique(x).shape, np.unique(y).shape, z.shape)\n",
    "\n",
    "X, Y = np.meshgrid(x, y)\n",
    "print(X.shape, Y.shape)\n",
    "print(z.reshape(np.unique(x).shape[0], np.unique(y).shape[0]).shape)\n",
    "plt.pcolor(z.reshape(np.unique(x).shape[0], np.unique(y).shape[0]).transpose())\n",
    "plt.colorbar()"
   ]
  },
  {
   "cell_type": "code",
   "execution_count": null,
   "metadata": {
    "collapsed": false
   },
   "outputs": [],
   "source": [
    "selection[['lambda_i', 'eta_p', 'Toxic Probability']].head()"
   ]
  }
 ],
 "metadata": {
  "kernelspec": {
   "display_name": "Python 3",
   "language": "python",
   "name": "python3"
  },
  "language_info": {
   "codemirror_mode": {
    "name": "ipython",
    "version": 3
   },
   "file_extension": ".py",
   "mimetype": "text/x-python",
   "name": "python",
   "nbconvert_exporter": "python",
   "pygments_lexer": "ipython3",
   "version": "3.6.0"
  }
 },
 "nbformat": 4,
 "nbformat_minor": 2
}
