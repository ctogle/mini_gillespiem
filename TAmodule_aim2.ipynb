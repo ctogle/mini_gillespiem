{
 "cells": [
  {
   "cell_type": "code",
   "execution_count": null,
   "metadata": {
    "collapsed": false
   },
   "outputs": [],
   "source": [
    "%load_ext autoreload\n",
    "%autoreload 2\n",
    "%matplotlib inline\n",
    "import pandas as pd\n",
    "import numpy as np\n",
    "import matplotlib.pyplot as plt\n",
    "from collections import defaultdict, OrderedDict\n",
    "from simulator import get_simulator\n",
    "from simulate import simulate\n",
    "from simulate import mpi_simulate"
   ]
  },
  {
   "cell_type": "markdown",
   "metadata": {},
   "source": [
    "# Simulating The Chemical Network "
   ]
  },
  {
   "cell_type": "code",
   "execution_count": null,
   "metadata": {
    "collapsed": true
   },
   "outputs": [],
   "source": [
    "system = {\n",
    "    'duration': 999.0, \n",
    "    'resolution': 1.0,\n",
    "    'species': [\n",
    "        ('i', 0),\n",
    "        ('I', 0),\n",
    "        ('a', 0), \n",
    "        ('A', 0),\n",
    "        ('C', 0),\n",
    "        ('CC', 0),\n",
    "        ('t', 0), \n",
    "        ('T', 0), \n",
    "        ('TT', 0),\n",
    "    ],\n",
    "    'reactions': [\n",
    "        ('sigma_i', (), ((1, 'i'), )), \n",
    "        ('alpha_i', ((1, 'i'), ), ((1, 'i'), (1, 'I'))), \n",
    "        ('F_i', ((1, 'i'), ), ()), \n",
    "        ('Gamma', ((1, 'i'), ), ()), \n",
    "        ('G_I', ((1, 'I'), ), ()), \n",
    "        ('Gamma', ((1, 'I'), ), ()), \n",
    "\n",
    "        ('lambda_ta', (), ((1, 't'), (1, 'a'))), \n",
    "        ('alpha_a', ((1, 'a'), ), ((1, 'a'), (1, 'A'))), \n",
    "        ('alpha_t', ((1, 't'), ), ((1, 't'), (1, 'T'))), \n",
    "        ('F_a', ((1, 'a'), ), ()), \n",
    "        ('F_t', ((1, 't'), ), ()), \n",
    "        ('Gamma', ((1, 'a'), ), ()), \n",
    "        ('Gamma', ((1, 't'), ), ()), \n",
    "        ('G_A', ((1, 'A'), ), ()), \n",
    "        ('G_T', ((1, 'T'), ), ()), \n",
    "        ('G_T', ((1, 'TT'), ), ((1, 'T'), )), \n",
    "        ('Gamma', ((1, 'A'), ), ()), \n",
    "        ('Gamma', ((1, 'T'), ), ()), \n",
    "\n",
    "        ('k_C', ((2, 'T'), ), ((1, 'TT'), )), \n",
    "        ('k_C', ((1, 'TT'), (1, 'A')), ((1, 'C'), )), \n",
    "        ('k_C', ((2, 'C'), ), ((1, 'CC'), )), \n",
    "        ('G_C', ((1, 'C'), ), ((1, 'TT'), )), \n",
    "        ('G_C', ((1, 'CC'), ), ((1, 'TT'), (1, 'C'))), \n",
    "        ('Gamma', ((1, 'TT'), ), ()), \n",
    "        ('Gamma', ((1, 'C'), ), ()), \n",
    "        ('Gamma', ((1, 'CC'), ), ()), \n",
    "        \n",
    "    ], \n",
    "    'variables': [\n",
    "        ('sigma_i', 20.0), \n",
    "        ('alpha_i', 200.0), \n",
    "        ('mu_i', 5.0), \n",
    "        ('sigma', 20.0), \n",
    "        ('k_0', 0.05), \n",
    "        ('alpha_t', 200.0), \n",
    "        ('nu', 1.6), \n",
    "        ('k_C', 1000.0), \n",
    "        ('mu_ta', 5.0), \n",
    "        ('f_T', 20.0), # change to beta_T\n",
    "        ('omega', 0.2), \n",
    "        ('delta', 1.5),\n",
    "        ('mu', 100.0), \n",
    "        #('mu', 50.0), \n",
    "        ('epsilon', 0.01), \n",
    "        ('kappa_M', 1.0),\n",
    "        ('kappa_I', 1.0), \n",
    "        ('eta_p', 0.5), \n",
    "        ('kappa_A', 1.0), \n",
    "        ('kappa_C', 0.1), \n",
    "        ('kappa_T', 0.0), \n",
    "        #('kappa_T1', 0.0), \n",
    "        #('kappa_T2', 0.0), \n",
    "        ('eta_t', 0.5), \n",
    "        ('gamma', 1.0), \n",
    "        ('phi', 1.0), \n",
    "        ('b_c', 0.25), # change to beta_g\n",
    "    ], \n",
    "    'functions': [\n",
    "        ('alpha_a', 'alpha_t * nu'), \n",
    "        ('T_free', 'T + TT'), \n",
    "        ('lambda_ta', 'sigma / (1 + k_0 * (A + C + CC))'), \n",
    "        ('F_t', 'mu_ta + f_T * (T + TT)'), # change to beta_t \n",
    "        ('F_a', 'mu_ta + f_T * (T + TT) * omega'), # change to beta_a\n",
    "        ('F_i', 'mu_i  + f_T * (T + TT) * delta'),\n",
    "        ('G1', 'mu / (epsilon + (kappa_I_c * kappa_I) * I + (kappa_M_c * kappa_M) * (kappa_A * A + kappa_C * (C + CC) + (kappa_T1 * kappa_T) * (T + TT)))'),\n",
    "        ('G2', 'mu / (epsilon + (kappa_I_c * kappa_I) * I + (kappa_M_c * kappa_M) * (kappa_A * A + kappa_C * (C + CC) + (kappa_T2 * kappa_T) * (T + TT)))'),\n",
    "        ('G_I', 'kappa_I_c * kappa_I * (G1 + G2)'),\n",
    "        ('G_A', 'kappa_M_c * kappa_M * kappa_A * (G1 + G2)'),\n",
    "        ('G_C', 'kappa_M_c * kappa_M * kappa_C * (G1 + G2)'),\n",
    "        ('G_T', 'kappa_M_c * kappa_M * kappa_T * (kappa_T1 * G1 + kappa_T2 * G2)'),\n",
    "        ('Gamma', '(gamma * phi) / (1.0 + b_c * phi * (T + TT))'),\n",
    "        ('kappa_M_c', 'eta_p'),\n",
    "        ('kappa_I_c', '1.0 - eta_p'),\n",
    "        ('kappa_T1', 'eta_t'),\n",
    "        ('kappa_T2', '1.0 - eta_t'),\n",
    "    ], \n",
    "    'targets': [\n",
    "        'time', \n",
    "        'i', \n",
    "        'I',\n",
    "        'A',\n",
    "        'C',\n",
    "        'CC',\n",
    "        'T', \n",
    "        'TT',\n",
    "        'T_free',\n",
    "    ],\n",
    "}"
   ]
  },
  {
   "cell_type": "code",
   "execution_count": null,
   "metadata": {
    "collapsed": false
   },
   "outputs": [],
   "source": [
    "df = pd.DataFrame(OrderedDict((t, d) for t, d in zip(system['targets'], get_simulator(system)(0))))\n",
    "df.plot(x='time', y=['T_free', 'i', 'I'], kind='line', figsize=(12, 8))"
   ]
  },
  {
   "cell_type": "markdown",
   "metadata": {},
   "source": [
    "# Measurements Of Toxicity Over Parameter Space "
   ]
  },
  {
   "cell_type": "code",
   "execution_count": null,
   "metadata": {
    "collapsed": false,
    "scrolled": true
   },
   "outputs": [],
   "source": [
    "from event_detection import event_detection\n",
    "from pscan import pscan_view\n",
    "\n",
    "processing = (\n",
    "    (event_detection, ('time', 'T_free', 'I')), \n",
    ")\n",
    "\n",
    "axes = (\n",
    "    #('sigma_i', np.arange(0.0, 20.0 + 1.0, 1.0)),\n",
    "    \n",
    "    #('mu', (50, 100)),\n",
    "\n",
    "    #('kappa_I', (0, 1)),\n",
    "\n",
    "    #('kappa_T', (0, 0.0000001, 0.000001, 0.00001)),\n",
    "    \n",
    "    #('eta_p', (0, 0.5)),\n",
    "    ('eta_p', np.arange(0.0, 1.0 + 0.1, 0.2)),\n",
    "\n",
    "    #('eta_t', (0, 0.5, 1)),\n",
    "    #('eta_t', np.arange(0.0, 1.0 + 0.1, 0.1)),\n",
    ")\n",
    "\n",
    "#pspace, data = simulate(system, processing=processing, batchsize=10, axes=axes)\n",
    "pspace, pscans = mpi_simulate(system, processing=processing, batchsize=10, axes=axes)"
   ]
  },
  {
   "cell_type": "markdown",
   "metadata": {},
   "source": [
    "# Viewing Measurements "
   ]
  },
  {
   "cell_type": "code",
   "execution_count": null,
   "metadata": {
    "collapsed": false
   },
   "outputs": [],
   "source": [
    "pscan = pscans[0]\n",
    "subspace = {\n",
    "    #'kappa_T': 0.0000001, \n",
    "    #'kappa_T': 0, \n",
    "    #'kappa_I': 0, \n",
    "    #'eta_t': 0.5, \n",
    "}\n",
    "targets = ('time', 'T_free', 'I')\n",
    "\n",
    "selection = pscan_view(pscan, subspace, targets)\n",
    "selection.shape, selection.columns"
   ]
  },
  {
   "cell_type": "code",
   "execution_count": null,
   "metadata": {
    "collapsed": false,
    "scrolled": false
   },
   "outputs": [],
   "source": [
    "trajectory = 0\n",
    "target = 'T_free'\n",
    "\n",
    "time_selection = selection.loc[selection['Target'] == 'time'].reset_index()\n",
    "target_selection = selection.loc[selection['Target'] == target].reset_index()\n",
    "\n",
    "n_fig = target_selection.shape[0]\n",
    "f, axes = plt.subplots(n_fig, 1, figsize=(12, 2 * n_fig))\n",
    "f.subplots_adjust(wspace=0.8, hspace=0.8)\n",
    "for (t, time), (l, location), ax in zip(time_selection.iterrows(), target_selection.iterrows(), axes):\n",
    "    subspace = location[pspace.columns]\n",
    "    subspace = ', '.join(('%s: %s' % (i, j)) for i, j in zip(subspace.index, subspace.values))\n",
    "    ax.set_title('location: %s' % subspace)\n",
    "    counts = location['Batch'][trajectory, :]\n",
    "    time = time['Batch'][trajectory, :]\n",
    "    ax.plot(time, counts, linewidth=3)\n",
    "    events = location['Events']\n",
    "    if events and sum([len(e) for e in events]):\n",
    "        parameters = location['Parameters']\n",
    "        high, low = parameters['high'], parameters['low']\n",
    "        medium = (high + low) / 2.0\n",
    "        ax.plot([time[0] - 1, time[-1] + 1], [low, low], color='k', ls='--')\n",
    "        ax.plot([time[0] - 1, time[-1] + 1], [medium, medium], color='k', ls='--')\n",
    "        ax.plot([time[0] - 1, time[-1] + 1], [high, high], color='k', ls='--')\n",
    "        for i, j in events[trajectory]:\n",
    "            ax.plot([time[i], time[j]], [medium, medium], color='r', lw=5, marker='s')"
   ]
  },
  {
   "cell_type": "code",
   "execution_count": null,
   "metadata": {
    "collapsed": false,
    "scrolled": false
   },
   "outputs": [],
   "source": [
    "x = 'eta_p'\n",
    "ys = [['Toxic Probability'], ['Mean Event Duration']]\n",
    "\n",
    "print(target_selection[x])\n",
    "\n",
    "n = len(ys)\n",
    "f, axes = plt.subplots(n, 1, figsize=(12, n * 6))\n",
    "for ax, targets in zip(axes, ys):\n",
    "    target_selection.plot(x=x, y=targets, ax=ax)\n",
    "    ax.set_title('%s Versus %s' % (', '.join(targets), x))\n",
    "    ax.set_xlabel(x)\n",
    "    ax.set_ylabel(', '.join(targets))"
   ]
  }
 ],
 "metadata": {
  "kernelspec": {
   "display_name": "Python 3",
   "language": "python",
   "name": "python3"
  },
  "language_info": {
   "codemirror_mode": {
    "name": "ipython",
    "version": 3
   },
   "file_extension": ".py",
   "mimetype": "text/x-python",
   "name": "python",
   "nbconvert_exporter": "python",
   "pygments_lexer": "ipython3",
   "version": "3.6.0"
  }
 },
 "nbformat": 4,
 "nbformat_minor": 2
}
