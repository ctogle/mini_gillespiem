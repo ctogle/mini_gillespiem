{
 "cells": [
  {
   "cell_type": "code",
   "execution_count": 1,
   "metadata": {},
   "outputs": [],
   "source": [
    "%load_ext autoreload\n",
    "%autoreload 2\n",
    "%matplotlib inline"
   ]
  },
  {
   "cell_type": "code",
   "execution_count": 2,
   "metadata": {},
   "outputs": [],
   "source": [
    "import pandas as pd\n",
    "import numpy as np\n",
    "import matplotlib.pyplot as plt\n",
    "from collections import defaultdict, OrderedDict\n",
    "from simulator import get_simulator\n",
    "from simulate import simulate\n",
    "from simulate import mpi_simulate"
   ]
  },
  {
   "cell_type": "code",
   "execution_count": 3,
   "metadata": {},
   "outputs": [],
   "source": [
    "system = {\n",
    "    'duration': 1, \n",
    "    'resolution': 0.001,\n",
    "    'species': [\n",
    "        ('P', 0), \n",
    "        ('N', 10000), \n",
    "    ],\n",
    "    'reactions': [\n",
    "        (\n",
    "            'omega', \n",
    "            ((1, 'N'), ),\n",
    "            ((2, 'N'), )\n",
    "        ), \n",
    "        (\n",
    "            'alpha', \n",
    "            ((1, 'N'), ),\n",
    "            ((1, 'P'), )\n",
    "        ), \n",
    "        (\n",
    "            'beta', \n",
    "            ((1, 'P'), ),\n",
    "            ((1, 'N'), )\n",
    "        ), \n",
    "        (\n",
    "            'mu_P', \n",
    "            ((1, 'P'), ), \n",
    "            ()\n",
    "        ), \n",
    "        (\n",
    "            'mu_N', \n",
    "            ((1, 'N'), ), \n",
    "            ()\n",
    "        ), \n",
    "    ], \n",
    "    'variables': [\n",
    "        ('omega', 1.0), \n",
    "        ('alpha', 1.0), \n",
    "        ('beta', 1.0), \n",
    "        ('mu_P', 1.0), \n",
    "        ('mu_N', 1.0), \n",
    "    ], \n",
    "    'functions': [], \n",
    "    'targets': [\n",
    "        'time', \n",
    "        'P', \n",
    "        'N', \n",
    "    ],\n",
    "}"
   ]
  },
  {
   "cell_type": "code",
   "execution_count": 4,
   "metadata": {},
   "outputs": [],
   "source": [
    "%matplotlib inline\n",
    "import pandas as pd\n",
    "from collections import OrderedDict\n",
    "from simulator import get_simulator\n",
    "from simulate import simulate"
   ]
  },
  {
   "cell_type": "code",
   "execution_count": 5,
   "metadata": {},
   "outputs": [
    {
     "name": "stdout",
     "output_type": "stream",
     "text": [
      "ext module version: gillespie_2 2\n",
      "Compiling ./gillespie_2.pyx because it changed.\n",
      "[1/1] Cythonizing ./gillespie_2.pyx\n",
      "running clean\n",
      "removing 'build/temp.linux-x86_64-3.7' (and everything under it)\n",
      "removing 'build'\n",
      "running build_ext\n",
      "building 'gillespie_2' extension\n",
      "creating build/temp.linux-x86_64-3.7\n",
      "gcc -pthread -B /home/cogle/dev/anaconda3/compiler_compat -Wl,--sysroot=/ -Wsign-compare -DNDEBUG -g -fwrapv -O3 -Wall -Wstrict-prototypes -fPIC -I/home/cogle/dev/anaconda3/lib/python3.7/site-packages/numpy/core/include -I/home/cogle/dev/anaconda3/include/python3.7m -c ./gillespie_2.c -o build/temp.linux-x86_64-3.7/./gillespie_2.o\n",
      "gcc -pthread -shared -B /home/cogle/dev/anaconda3/compiler_compat -L/home/cogle/dev/anaconda3/lib -Wl,-rpath=/home/cogle/dev/anaconda3/lib -Wl,--no-as-needed -Wl,--sysroot=/ build/temp.linux-x86_64-3.7/./gillespie_2.o -o /home/cogle/dev/gillespie_modular/.simulators/gillespie_2.cpython-37m-x86_64-linux-gnu.so\n"
     ]
    }
   ],
   "source": [
    "run = get_simulator(system)"
   ]
  },
  {
   "cell_type": "code",
   "execution_count": 6,
   "metadata": {},
   "outputs": [],
   "source": [
    "data = run(0, mu_P=0.1)"
   ]
  },
  {
   "cell_type": "code",
   "execution_count": 7,
   "metadata": {},
   "outputs": [
    {
     "data": {
      "text/plain": [
       "<matplotlib.axes._subplots.AxesSubplot at 0x7fd5d2f2b080>"
      ]
     },
     "execution_count": 7,
     "metadata": {},
     "output_type": "execute_result"
    },
    {
     "data": {
      "image/png": "[encoded data removed]",
      "text/plain": [
       "<Figure size 864x576 with 1 Axes>"
      ]
     },
     "metadata": {
      "needs_background": "light"
     },
     "output_type": "display_data"
    }
   ],
   "source": [
    "df = pd.DataFrame(OrderedDict((t, d) for t, d in zip(system['targets'], data)))\n",
    "df.plot(x='time', kind='line', figsize=(12, 8))"
   ]
  },
  {
   "cell_type": "code",
   "execution_count": 8,
   "metadata": {
    "scrolled": false
   },
   "outputs": [
    {
     "name": "stderr",
     "output_type": "stream",
     "text": [
      "\r",
      "Scanning Parameters:   0%|          | 0/4 [00:00<?, ?it/s]"
     ]
    },
    {
     "name": "stdout",
     "output_type": "stream",
     "text": [
      "> start dispatch 0 ./.simulators/run.json\n",
      "start dispatch 0 ./.simulators/run.json\n",
      "> worker 2 start\n",
      "worker 2 start\n",
      "> setting up workers\n",
      "setting up workers\n",
      "> worker 6 start\n",
      "worker 6 start\n",
      "> worker 7 start\n",
      "worker 7 start\n",
      "> worker 3 start\n",
      "worker 3 start\n",
      "> worker 5 start\n",
      "worker 5 start\n",
      "> worker 4 start\n",
      "worker 4 start\n",
      "> worker 1 start\n",
      "worker 1 start\n",
      "> worker 1 setting up\n",
      "worker 1 setting up\n",
      "> ext module version: gillespie_2 2\n",
      "ext module version: gillespie_2 2\n",
      "> Compiling ./gillespie_2.pyx because it changed.\n",
      "Compiling ./gillespie_2.pyx because it changed.\n",
      "> [1/1] Cythonizing ./gillespie_2.pyx\n",
      "[1/1] Cythonizing ./gillespie_2.pyx\n",
      "> running clean\n",
      "running clean\n",
      "> removing 'build/temp.linux-x86_64-3.7' (and everything under it)\n",
      "removing 'build/temp.linux-x86_64-3.7' (and everything under it)\n",
      "> removing 'build'\n",
      "removing 'build'\n",
      "> running build_ext\n",
      "running build_ext\n",
      "> building 'gillespie_2' extension\n",
      "building 'gillespie_2' extension\n",
      "> creating build/temp.linux-x86_64-3.7\n",
      "creating build/temp.linux-x86_64-3.7\n",
      "> gcc -pthread -B /home/cogle/dev/anaconda3/compiler_compat -Wl,--sysroot=/ -Wsign-compare -DNDEBUG -g -fwrapv -O3 -Wall -Wstrict-prototypes -fPIC -I/home/cogle/dev/anaconda3/lib/python3.7/site-packages/numpy/core/include -I/home/cogle/dev/anaconda3/include/python3.7m -c ./gillespie_2.c -o build/temp.linux-x86_64-3.7/./gillespie_2.o\n",
      "gcc -pthread -B /home/cogle/dev/anaconda3/compiler_compat -Wl,--sysroot=/ -Wsign-compare -DNDEBUG -g -fwrapv -O3 -Wall -Wstrict-prototypes -fPIC -I/home/cogle/dev/anaconda3/lib/python3.7/site-packages/numpy/core/include -I/home/cogle/dev/anaconda3/include/python3.7m -c ./gillespie_2.c -o build/temp.linux-x86_64-3.7/./gillespie_2.o\n",
      "> gcc -pthread -shared -B /home/cogle/dev/anaconda3/compiler_compat -L/home/cogle/dev/anaconda3/lib -Wl,-rpath=/home/cogle/dev/anaconda3/lib -Wl,--no-as-needed -Wl,--sysroot=/ build/temp.linux-x86_64-3.7/./gillespie_2.o -o /home/cogle/dev/gillespie_modular/.simulators/gillespie_2.cpython-37m-x86_64-linux-gnu.so\n",
      "gcc -pthread -shared -B /home/cogle/dev/anaconda3/compiler_compat -L/home/cogle/dev/anaconda3/lib -Wl,-rpath=/home/cogle/dev/anaconda3/lib -Wl,--no-as-needed -Wl,--sysroot=/ build/temp.linux-x86_64-3.7/./gillespie_2.o -o /home/cogle/dev/gillespie_modular/.simulators/gillespie_2.cpython-37m-x86_64-linux-gnu.so\n",
      "> worker 1 ready to simulate\n",
      "worker 1 ready to simulate\n",
      "> ext module version: gillespie_2 2\n",
      "ext module version: gillespie_2 2\n",
      "> worker 2 ready to simulate\n",
      "worker 2 ready to simulate\n",
      "> ext module version: gillespie_2 2\n",
      "ext module version: gillespie_2 2\n",
      "> worker 3 ready to simulate\n",
      "worker 3 ready to simulate\n",
      "> ext module version: gillespie_2 2\n",
      "ext module version: gillespie_2 2\n",
      "> worker 4 ready to simulate\n",
      "worker 4 ready to simulate\n",
      "> ext module version: gillespie_2 2\n",
      "ext module version: gillespie_2 2\n",
      "> worker 5 ready to simulate\n",
      "worker 5 ready to simulate\n",
      "> ext module version: gillespie_2 2\n",
      "ext module version: gillespie_2 2\n",
      "> worker 6 ready to simulate\n",
      "worker 6 ready to simulate\n",
      "> ext module version: gillespie_2 2\n",
      "ext module version: gillespie_2 2\n",
      "> worker 7 ready to simulate\n",
      "worker 7 ready to simulate\n",
      "> set up workers\n",
      "set up workers\n"
     ]
    },
    {
     "name": "stderr",
     "output_type": "stream",
     "text": [
      "\r",
      "Scanning Parameters:  25%|██▌       | 1/4 [00:07<00:22,  7.54s/it]"
     ]
    },
    {
     "name": "stdout",
     "output_type": "stream",
     "text": [
      "> worker 2 ran location 1\n",
      "match worker 2 ran location 1\n",
      "> worker 3 ran location 2\n",
      "match worker 3 ran location 2\n",
      "> worker 4 ran location 3\n",
      "match worker 4 ran location 3\n",
      "> saving output data...\n",
      "saving output data...\n",
      "> saved output data\n",
      "saved output data\n",
      "> end dispatch 0 ./.simulators/run.json\n",
      "end dispatch 0 ./.simulators/run.json\n",
      "> worker 4 halt\n",
      "worker 4 halt\n",
      "> worker 1 ran location 0\n",
      "match worker 1 ran location 0\n",
      "> worker 1 halt\n",
      "worker 1 halt\n",
      "> worker 6 halt\n",
      "worker 6 halt\n",
      "> worker 7 halt\n",
      "worker 7 halt\n",
      "> worker 5 halt\n",
      "worker 5 halt\n",
      "> worker 3 halt\n",
      "worker 3 halt\n",
      "> worker 2 halt\n",
      "worker 2 halt\n"
     ]
    },
    {
     "name": "stderr",
     "output_type": "stream",
     "text": [
      "\r",
      "Scanning Parameters: 100%|██████████| 4/4 [00:07<00:00,  1.96s/it]"
     ]
    },
    {
     "name": "stdout",
     "output_type": "stream",
     "text": [
      "loading output data...\n",
      "loaded output data\n"
     ]
    },
    {
     "name": "stderr",
     "output_type": "stream",
     "text": [
      "\n"
     ]
    }
   ],
   "source": [
    "from pscan import pscan_view\n",
    "\n",
    "processing = ()\n",
    "\n",
    "axes = (\n",
    "    ('mu_P', (1.0, 0.1, 0.01, 0.001)),\n",
    ")\n",
    "\n",
    "#pspace, data = simulate(system, processing=processing, batchsize=10, axes=axes)\n",
    "pspace, pscans = mpi_simulate(system, processing=processing, batchsize=1, axes=axes)"
   ]
  },
  {
   "cell_type": "code",
   "execution_count": 12,
   "metadata": {},
   "outputs": [
    {
     "data": {
      "text/html": [
       "<div>\n",
       "<style scoped>\n",
       "    .dataframe tbody tr th:only-of-type {\n",
       "        vertical-align: middle;\n",
       "    }\n",
       "\n",
       "    .dataframe tbody tr th {\n",
       "        vertical-align: top;\n",
       "    }\n",
       "\n",
       "    .dataframe thead th {\n",
       "        text-align: right;\n",
       "    }\n",
       "</style>\n",
       "<table border=\"1\" class=\"dataframe\">\n",
       "  <thead>\n",
       "    <tr style=\"text-align: right;\">\n",
       "      <th></th>\n",
       "      <th>mu_P</th>\n",
       "    </tr>\n",
       "  </thead>\n",
       "  <tbody>\n",
       "    <tr>\n",
       "      <th>0</th>\n",
       "      <td>1.000</td>\n",
       "    </tr>\n",
       "    <tr>\n",
       "      <th>1</th>\n",
       "      <td>0.100</td>\n",
       "    </tr>\n",
       "    <tr>\n",
       "      <th>2</th>\n",
       "      <td>0.010</td>\n",
       "    </tr>\n",
       "    <tr>\n",
       "      <th>3</th>\n",
       "      <td>0.001</td>\n",
       "    </tr>\n",
       "  </tbody>\n",
       "</table>\n",
       "</div>"
      ],
      "text/plain": [
       "    mu_P\n",
       "0  1.000\n",
       "1  0.100\n",
       "2  0.010\n",
       "3  0.001"
      ]
     },
     "execution_count": 12,
     "metadata": {},
     "output_type": "execute_result"
    }
   ],
   "source": [
    "pspace"
   ]
  },
  {
   "cell_type": "code",
   "execution_count": 11,
   "metadata": {},
   "outputs": [
    {
     "data": {
      "text/plain": [
       "[array([[[0.000e+00, 1.000e-03, 2.000e-03, ..., 9.980e-01, 9.990e-01,\n",
       "          1.000e+00],\n",
       "         [0.000e+00, 3.000e+00, 1.200e+01, ..., 2.671e+03, 2.677e+03,\n",
       "          2.677e+03],\n",
       "         [1.000e+04, 9.985e+03, 9.972e+03, ..., 5.074e+03, 5.068e+03,\n",
       "          5.065e+03]]]),\n",
       " array([[[0.000e+00, 1.000e-03, 2.000e-03, ..., 9.980e-01, 9.990e-01,\n",
       "          1.000e+00],\n",
       "         [0.000e+00, 1.000e+01, 2.500e+01, ..., 4.073e+03, 4.076e+03,\n",
       "          4.070e+03],\n",
       "         [1.000e+04, 9.983e+03, 9.971e+03, ..., 5.469e+03, 5.465e+03,\n",
       "          5.471e+03]]]),\n",
       " array([[[0.000e+00, 1.000e-03, 2.000e-03, ..., 9.980e-01, 9.990e-01,\n",
       "          1.000e+00],\n",
       "         [0.000e+00, 1.200e+01, 1.900e+01, ..., 4.302e+03, 4.295e+03,\n",
       "          4.299e+03],\n",
       "         [1.000e+04, 9.988e+03, 9.981e+03, ..., 5.690e+03, 5.701e+03,\n",
       "          5.701e+03]]]),\n",
       " array([[[0.000e+00, 1.000e-03, 2.000e-03, ..., 9.980e-01, 9.990e-01,\n",
       "          1.000e+00],\n",
       "         [0.000e+00, 1.000e+01, 2.000e+01, ..., 4.250e+03, 4.251e+03,\n",
       "          4.253e+03],\n",
       "         [1.000e+04, 9.991e+03, 9.971e+03, ..., 5.766e+03, 5.767e+03,\n",
       "          5.767e+03]]])]"
      ]
     },
     "execution_count": 11,
     "metadata": {},
     "output_type": "execute_result"
    }
   ],
   "source": [
    "pscans"
   ]
  },
  {
   "cell_type": "code",
   "execution_count": null,
   "metadata": {},
   "outputs": [],
   "source": []
  }
 ],
 "metadata": {
  "kernelspec": {
   "display_name": "Python 3",
   "language": "python",
   "name": "python3"
  },
  "language_info": {
   "codemirror_mode": {
    "name": "ipython",
    "version": 3
   },
   "file_extension": ".py",
   "mimetype": "text/x-python",
   "name": "python",
   "nbconvert_exporter": "python",
   "pygments_lexer": "ipython3",
   "version": "3.7.1"
  }
 },
 "nbformat": 4,
 "nbformat_minor": 2
}
